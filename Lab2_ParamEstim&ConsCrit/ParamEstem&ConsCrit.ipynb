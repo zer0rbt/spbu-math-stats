{
 "cells": [
  {
   "metadata": {},
   "cell_type": "markdown",
   "source": "# Topic 2. Parameter estimates. Criteria for consent",
   "id": "201752cd02da7d79"
  },
  {
   "metadata": {},
   "cell_type": "markdown",
   "source": "# Source code for all datasets",
   "id": "c12386b182c5bd61"
  },
  {
   "cell_type": "code",
   "id": "initial_id",
   "metadata": {
    "collapsed": true,
    "ExecuteTime": {
     "end_time": "2024-12-12T04:38:50.941117Z",
     "start_time": "2024-12-12T04:38:50.927092Z"
    }
   },
   "source": [
    "import pandas as pd\n",
    "import yaml\n",
    "import matplotlib.pyplot as plt\n",
    "import numpy as np\n",
    "import scipy.stats as stats\n",
    "from scipy.stats import norm, expon, poisson, chisquare, sem, t, chi2\n",
    "from typing import *"
   ],
   "outputs": [],
   "execution_count": 18
  },
  {
   "metadata": {
    "ExecuteTime": {
     "end_time": "2024-12-12T04:38:51.019803Z",
     "start_time": "2024-12-12T04:38:51.002768Z"
    }
   },
   "cell_type": "code",
   "source": [
    "with open('../config.yaml', 'r') as f:\n",
    "    cfg = yaml.safe_load(f)"
   ],
   "id": "4b4e30cd1a75c4d4",
   "outputs": [],
   "execution_count": 19
  },
  {
   "metadata": {
    "ExecuteTime": {
     "end_time": "2024-12-12T04:59:02.071423Z",
     "start_time": "2024-12-12T04:59:02.056424Z"
    }
   },
   "cell_type": "code",
   "source": [
    "def chi_square_test(data, dist_type=\"normal\", bins=10, **kwargs):\n",
    "    \"\"\"\n",
    "    Perform Chi-Square test for a given dataset and distribution type.\n",
    "\n",
    "    Parameters:\n",
    "    data : array-like\n",
    "        Input data to test.\n",
    "    dist_type : str\n",
    "        Type of distribution ('normal', 'exponential', 'poisson').\n",
    "    bins : int\n",
    "        Number of bins to divide data.\n",
    "    **kwargs :\n",
    "        Parameters for the chosen distribution:\n",
    "            - For 'normal': mean, std (default: calculated from data).\n",
    "            - For 'exponential': scale (1/lambda, default: calculated from data).\n",
    "            - For 'poisson': mu (default: calculated from data).\n",
    "\n",
    "    Returns:\n",
    "    chi2_stat : float\n",
    "        Chi-Square statistic.\n",
    "    p_value : float\n",
    "        p-value of the test.\n",
    "    \"\"\"\n",
    "    # Calculate histogram (observed frequencies)\n",
    "    observed_freq, bin_edges = np.histogram(data, bins=bins, density=False)\n",
    "    n = len(data)\n",
    "\n",
    "    # Choose distribution and calculate expected frequencies\n",
    "    if dist_type == \"normal\":\n",
    "        mu = kwargs.get(\"mean\", np.mean(data))\n",
    "        std = kwargs.get(\"std\", np.std(data))\n",
    "        expected_freq = [\n",
    "            n * (norm.cdf(bin_edges[i + 1], loc=mu, scale=std) - norm.cdf(bin_edges[i], loc=mu, scale=std))\n",
    "            for i in range(len(bin_edges) - 1)\n",
    "        ]\n",
    "\n",
    "    elif dist_type == \"exponential\":\n",
    "        scale = kwargs.get(\"scale\", 1 / np.mean(data))\n",
    "        expected_freq = [\n",
    "            n * (expon.cdf(bin_edges[i + 1], scale=scale) - expon.cdf(bin_edges[i], scale=scale))\n",
    "            for i in range(len(bin_edges) - 1)\n",
    "        ]\n",
    "\n",
    "    elif dist_type == \"poisson\":\n",
    "        mu = kwargs.get(\"mu\", np.mean(data))\n",
    "        expected_freq = [\n",
    "            n * (poisson.cdf(bin_edges[i + 1] - 1, mu) - poisson.cdf(bin_edges[i] - 1, mu))\n",
    "            for i in range(len(bin_edges) - 1)\n",
    "        ]\n",
    "\n",
    "    else:\n",
    "        raise ValueError(\"Unsupported distribution type. Choose 'normal', 'exponential', or 'poisson'.\")\n",
    "\n",
    "    expected_freq = np.asarray(expected_freq, dtype=np.float64)\n",
    "    expected_freq = np.maximum(expected_freq, 1e-10)\n",
    "    observed_total = np.sum(observed_freq)\n",
    "    expected_total = np.sum(expected_freq)\n",
    "    expected_freq *= (observed_total / expected_total)\n",
    "\n",
    "    # Perform Chi-Square Test\n",
    "    chi2_stat, p_value = chisquare(f_obs=observed_freq, f_exp=expected_freq)\n",
    "\n",
    "    return chi2_stat, p_value"
   ],
   "id": "eb4731aa693499a6",
   "outputs": [],
   "execution_count": 48
  },
  {
   "metadata": {
    "ExecuteTime": {
     "end_time": "2024-12-12T04:48:26.944474Z",
     "start_time": "2024-12-12T04:48:26.929443Z"
    }
   },
   "cell_type": "code",
   "source": [
    "def chisq_test_printer(df: pd.DataFrame, param: str, bins: int = 10, dist_type: str = \"normal\", **kwargs) -> None:\n",
    "    \"\"\"\n",
    "    Perform Chi-Square test for a given dataset and distribution type.\n",
    "    And print results!\n",
    "    \n",
    "    Parameters:\n",
    "    data : array-like\n",
    "        Input data to test.\n",
    "    dist_type : str\n",
    "        Type of distribution ('normal', 'exponential', 'poisson').\n",
    "    bins : int\n",
    "        Number of bins to divide data.\n",
    "    **kwargs :\n",
    "        Parameters for the chosen distribution:\n",
    "            - For 'normal': mean, std (default: calculated from data).\n",
    "            - For 'exponential': scale (1/lambda, default: calculated from data).\n",
    "            - For 'poisson': mu (default: calculated from data).\n",
    "\n",
    "    Returns:\n",
    "    None\n",
    "    \"\"\"\n",
    "    chi2_stat, p_val = chi_square_test(df[param], bins=bins, dist_type=dist_type, kwargs=kwargs)\n",
    "    print(f\"Chi-Square Statistic for {param} distribution: {chi2_stat}, p-value: {p_val}\")\n",
    "    if p_val > 0.05:\n",
    "        print(f\"The data is likely {dist_type} (fail to reject H0).\")\n",
    "    else:\n",
    "        print(f\"The data is likely not {dist_type} (reject H0).\")\n"
   ],
   "id": "803931bb989fe8ca",
   "outputs": [],
   "execution_count": 34
  },
  {
   "metadata": {
    "ExecuteTime": {
     "end_time": "2024-12-12T04:38:51.067303Z",
     "start_time": "2024-12-12T04:38:51.052287Z"
    }
   },
   "cell_type": "code",
   "source": [
    "def confidence_intervals_normal(data: pd.DataFrame, confidence: float = 0.95) -> Tuple[float, float]:\n",
    "    \"\"\"\n",
    "    Compute confidence intervals for the mean and standard deviation of a normal distribution.\n",
    "\n",
    "    Parameters:\n",
    "    data : array-like\n",
    "        Input data.\n",
    "    confidence : float\n",
    "        Confidence level (default is 0.95).\n",
    "\n",
    "    Returns:\n",
    "    ci_mean : tuple\n",
    "        Confidence interval for the mean.\n",
    "    ci_std : tuple\n",
    "        Confidence interval for the standard deviation.\n",
    "    \"\"\"\n",
    "    n = len(data)\n",
    "    mean = np.mean(data)\n",
    "    std = np.std(data, ddof=1)\n",
    "\n",
    "    # Confidence interval for the mean\n",
    "    se = sem(data)\n",
    "    t_value = t.ppf((1 + confidence) / 2, df=n - 1)\n",
    "    margin_error_mean = t_value * se\n",
    "    ci_mean = (mean - margin_error_mean, mean + margin_error_mean)\n",
    "\n",
    "    # Confidence interval for the standard deviation\n",
    "    chi2_lower = chi2.ppf((1 - confidence) / 2, df=n - 1)\n",
    "    chi2_upper = chi2.ppf(1 - (1 - confidence) / 2, df=n - 1)\n",
    "    ci_std = (\n",
    "        std * np.sqrt((n - 1) / chi2_upper),\n",
    "        std * np.sqrt((n - 1) / chi2_lower)\n",
    "    )\n",
    "\n",
    "    return ci_mean, ci_std"
   ],
   "id": "d216fd5ecc271d65",
   "outputs": [],
   "execution_count": 22
  },
  {
   "metadata": {
    "ExecuteTime": {
     "end_time": "2024-12-12T04:38:51.083336Z",
     "start_time": "2024-12-12T04:38:51.069295Z"
    }
   },
   "cell_type": "code",
   "source": [
    "def conf_int_printer(data: pd.DataFrame, confidence: float = 0.95, text: str = \"\") -> None:\n",
    "    \"\"\"\n",
    "    Compute confidence intervals for the mean and standard deviation of a normal distribution.\n",
    "    And print results!\n",
    "\n",
    "    Parameters:\n",
    "    data : array-like\n",
    "        Input data.\n",
    "    confidence : float\n",
    "        Confidence level (default is 0.95).\n",
    "    text: str\n",
    "        Parameter to print in first print().\n",
    "\n",
    "    Returns:\n",
    "    None\n",
    "    \"\"\"\n",
    "    ci_mean, ci_std = confidence_intervals_normal(data, confidence)\n",
    "    print(f\"Parameter: {text if text else 'Unknown'}\")\n",
    "    print(f\"Confidence Interval for Mean: {ci_mean}\")\n",
    "    print(f\"Confidence Interval for Standard Deviation: {ci_std}\")"
   ],
   "id": "8467c61262358942",
   "outputs": [],
   "execution_count": 23
  },
  {
   "metadata": {},
   "cell_type": "markdown",
   "source": [
    "---\n",
    "# Dataset: \"Babyboom\"\n",
    "**Variables:**\n",
    "- Time of birth recorded on the 24-hour clock\n",
    "- Sex of the child (1 = girl, 2 = boy)\n",
    "- Birth weight in grams\n",
    "- Number of minutes after midnight of each birth\n",
    "\n",
    "## 1. Check Normality of Birth Weight\n",
    "- First, check the normality of birth weights using all data, without separating by sex.\n",
    "- Then, perform the same check for boys and girls separately.\n",
    "- Use point estimates of parameters for hypothesis testing.\n",
    "- Construct confidence intervals for the parameters of the normal distribution.\n",
    "\n",
    "## 2. Test Hypothesis for Exponential Distribution of Time Between Births\n",
    "- Test whether the time between births follows an exponential distribution.\n",
    "- Use point estimates of parameters for hypothesis testing.\n",
    "\n",
    "## 3. Test Hypothesis for Poisson Distribution of Births per Hour\n",
    "- Test if the number of births per hour follows a Poisson distribution.\n",
    "- Use point estimates of parameters for hypothesis testing."
   ],
   "id": "2d5ab984eaa7d6a"
  },
  {
   "metadata": {},
   "cell_type": "markdown",
   "source": "## 0. Preparing data",
   "id": "c33e5184977b8be"
  },
  {
   "metadata": {
    "ExecuteTime": {
     "end_time": "2024-12-12T04:38:51.114860Z",
     "start_time": "2024-12-12T04:38:51.107861Z"
    }
   },
   "cell_type": "code",
   "source": [
    "babyboom_column_specifications = [\n",
    "    (0, 8),  # Time of birth\n",
    "    (8, 16),  # Sex of the child\n",
    "    (16, 24),  # Birth weight in grams\n",
    "    (24, 32)  # Minutes after midnight\n",
    "]\n",
    "\n",
    "babyboom_column_names = [\n",
    "    \"Time_of_birth\",\n",
    "    \"Sex_of_child\",\n",
    "    \"Birth_weight_grams\",\n",
    "    \"Minutes_after_midnight\"\n",
    "]\n"
   ],
   "id": "5c173c189f2be6ee",
   "outputs": [],
   "execution_count": 24
  },
  {
   "metadata": {
    "ExecuteTime": {
     "end_time": "2024-12-12T04:57:08.294321Z",
     "start_time": "2024-12-12T04:57:08.275144Z"
    }
   },
   "cell_type": "code",
   "source": [
    "ds_babyboom = pd.read_fwf(cfg['datasets']['babyboom'], colspecs=babyboom_column_specifications,\n",
    "                          names=babyboom_column_names)\n",
    "ds_babyboom.head()"
   ],
   "id": "cc3ae5b212ac957f",
   "outputs": [
    {
     "data": {
      "text/plain": [
       "   Time_of_birth  Sex_of_child  Birth_weight_grams  Minutes_after_midnight\n",
       "0              5             1                3837                       5\n",
       "1            104             1                3334                      64\n",
       "2            118             2                3554                      78\n",
       "3            155             2                3838                     115\n",
       "4            257             2                3625                     177"
      ],
      "text/html": [
       "<div>\n",
       "<style scoped>\n",
       "    .dataframe tbody tr th:only-of-type {\n",
       "        vertical-align: middle;\n",
       "    }\n",
       "\n",
       "    .dataframe tbody tr th {\n",
       "        vertical-align: top;\n",
       "    }\n",
       "\n",
       "    .dataframe thead th {\n",
       "        text-align: right;\n",
       "    }\n",
       "</style>\n",
       "<table border=\"1\" class=\"dataframe\">\n",
       "  <thead>\n",
       "    <tr style=\"text-align: right;\">\n",
       "      <th></th>\n",
       "      <th>Time_of_birth</th>\n",
       "      <th>Sex_of_child</th>\n",
       "      <th>Birth_weight_grams</th>\n",
       "      <th>Minutes_after_midnight</th>\n",
       "    </tr>\n",
       "  </thead>\n",
       "  <tbody>\n",
       "    <tr>\n",
       "      <th>0</th>\n",
       "      <td>5</td>\n",
       "      <td>1</td>\n",
       "      <td>3837</td>\n",
       "      <td>5</td>\n",
       "    </tr>\n",
       "    <tr>\n",
       "      <th>1</th>\n",
       "      <td>104</td>\n",
       "      <td>1</td>\n",
       "      <td>3334</td>\n",
       "      <td>64</td>\n",
       "    </tr>\n",
       "    <tr>\n",
       "      <th>2</th>\n",
       "      <td>118</td>\n",
       "      <td>2</td>\n",
       "      <td>3554</td>\n",
       "      <td>78</td>\n",
       "    </tr>\n",
       "    <tr>\n",
       "      <th>3</th>\n",
       "      <td>155</td>\n",
       "      <td>2</td>\n",
       "      <td>3838</td>\n",
       "      <td>115</td>\n",
       "    </tr>\n",
       "    <tr>\n",
       "      <th>4</th>\n",
       "      <td>257</td>\n",
       "      <td>2</td>\n",
       "      <td>3625</td>\n",
       "      <td>177</td>\n",
       "    </tr>\n",
       "  </tbody>\n",
       "</table>\n",
       "</div>"
      ]
     },
     "execution_count": 46,
     "metadata": {},
     "output_type": "execute_result"
    }
   ],
   "execution_count": 46
  },
  {
   "metadata": {},
   "cell_type": "markdown",
   "source": "## 1. Check Normality of Birth Weight",
   "id": "dae84a6011da8c5a"
  },
  {
   "metadata": {},
   "cell_type": "markdown",
   "source": "For all genders",
   "id": "236c11895c33566e"
  },
  {
   "metadata": {
    "ExecuteTime": {
     "end_time": "2024-12-12T04:59:09.155328Z",
     "start_time": "2024-12-12T04:59:09.141312Z"
    }
   },
   "cell_type": "code",
   "source": "chisq_test_printer(ds_babyboom, \"Birth_weight_grams\", bins =8)",
   "id": "ff59bbc2f4fd78ca",
   "outputs": [
    {
     "name": "stdout",
     "output_type": "stream",
     "text": [
      "Chi-Square Statistic for Birth_weight_grams distribution: 17.776662953218455, p-value: 0.013019333129642109\n",
      "The data is likely not normal (reject H0).\n"
     ]
    }
   ],
   "execution_count": 49
  },
  {
   "metadata": {},
   "cell_type": "markdown",
   "source": "For boys",
   "id": "c3b35d3bae4cb06d"
  },
  {
   "metadata": {
    "ExecuteTime": {
     "end_time": "2024-12-12T04:59:11.060178Z",
     "start_time": "2024-12-12T04:59:11.045978Z"
    }
   },
   "cell_type": "code",
   "source": "chisq_test_printer(ds_babyboom[ds_babyboom['Sex_of_child'] == 2], \"Birth_weight_grams\", bins =8)",
   "id": "19ea073f00d29e22",
   "outputs": [
    {
     "name": "stdout",
     "output_type": "stream",
     "text": [
      "Chi-Square Statistic for Birth_weight_grams distribution: 6.2708745544125755, p-value: 0.5085007396249484\n",
      "The data is likely normal (fail to reject H0).\n"
     ]
    }
   ],
   "execution_count": 50
  },
  {
   "metadata": {},
   "cell_type": "markdown",
   "source": "For girls",
   "id": "df51782c32f885a6"
  },
  {
   "metadata": {
    "ExecuteTime": {
     "end_time": "2024-12-12T04:59:12.851387Z",
     "start_time": "2024-12-12T04:59:12.837548Z"
    }
   },
   "cell_type": "code",
   "source": "chisq_test_printer(ds_babyboom[ds_babyboom['Sex_of_child'] == 1], \"Birth_weight_grams\", bins =8)",
   "id": "43d8ba82f3184e94",
   "outputs": [
    {
     "name": "stdout",
     "output_type": "stream",
     "text": [
      "Chi-Square Statistic for Birth_weight_grams distribution: 10.231846150114865, p-value: 0.1758112504054016\n",
      "The data is likely normal (fail to reject H0).\n"
     ]
    }
   ],
   "execution_count": 51
  },
  {
   "metadata": {},
   "cell_type": "markdown",
   "source": "### Confidence Intervals for Normal Distribution Parameters",
   "id": "1acefc13bf080bf4"
  },
  {
   "metadata": {
    "ExecuteTime": {
     "end_time": "2024-12-12T04:50:47.900448Z",
     "start_time": "2024-12-12T04:50:47.884424Z"
    }
   },
   "cell_type": "code",
   "source": "conf_int_printer(ds_babyboom['Birth_weight_grams'], 0.95, \"Birth_weight_grams\")",
   "id": "421b479e00830fda",
   "outputs": [
    {
     "name": "stdout",
     "output_type": "stream",
     "text": [
      "Parameter: Birth_weight_grams\n",
      "Confidence Interval for Mean: (3115.418005028038, 3436.491085881053)\n",
      "Confidence Interval for Standard Deviation: (436.272478864305, 669.0306102925873)\n"
     ]
    }
   ],
   "execution_count": 38
  },
  {
   "metadata": {},
   "cell_type": "markdown",
   "source": "## 2. Test Hypothesis for Exponential Distribution of Time Between Births",
   "id": "4ba5250e2f6e66d8"
  },
  {
   "metadata": {
    "ExecuteTime": {
     "end_time": "2024-12-12T04:59:15.889Z",
     "start_time": "2024-12-12T04:59:15.875832Z"
    }
   },
   "cell_type": "code",
   "source": [
    "ds_babyboom['time_diff'] = ds_babyboom['Minutes_after_midnight'].diff()\n",
    "ds_babyboom = ds_babyboom.dropna()\n",
    "chisq_test_printer(ds_babyboom, \"time_diff\", dist_type=\"exponential\")"
   ],
   "id": "e5b501279f667979",
   "outputs": [
    {
     "name": "stdout",
     "output_type": "stream",
     "text": [
      "Chi-Square Statistic for time_diff distribution: 58.476190476190474, p-value: 2.6332709959162704e-09\n",
      "The data is likely not exponential (reject H0).\n"
     ]
    }
   ],
   "execution_count": 52
  },
  {
   "metadata": {},
   "cell_type": "markdown",
   "source": "## 3. Test Hypothesis for Poisson Distribution of Births per Hour",
   "id": "958997177ad23915"
  },
  {
   "metadata": {
    "ExecuteTime": {
     "end_time": "2024-12-12T05:02:44.300435Z",
     "start_time": "2024-12-12T05:02:44.277571Z"
    }
   },
   "cell_type": "code",
   "source": [
    "\n",
    "ds_babyboom['hour'] = ds_babyboom['Minutes_after_midnight'] // 60  # Integer division to get the hour (in minutes)\n",
    "\n",
    "# Count the number of births per hour and merge it back to the original DataFrame\n",
    "births_per_hour = ds_babyboom.groupby('hour').size().reset_index(name='births_count')\n",
    "ds_babyboom = pd.merge(ds_babyboom, births_per_hour, on='hour', how='left')\n",
    "\n",
    "chisq_test_printer(ds_babyboom, \"births_count\", dist_type=\"poisson\")"
   ],
   "id": "3a7b5a9d938969e1",
   "outputs": [
    {
     "name": "stdout",
     "output_type": "stream",
     "text": [
      "Chi-Square Statistic for births_count distribution: 322899815629.22186, p-value: 0.0\n",
      "The data is likely not poisson (reject H0).\n"
     ]
    }
   ],
   "execution_count": 55
  },
  {
   "metadata": {},
   "cell_type": "markdown",
   "source": [
    "\n",
    "---\n",
    "\n",
    "# Dataset: \"Euroweight\"\n",
    "**Variables:**\n",
    "- weight\n",
    "- batch\n",
    "\n",
    "### 1. Test Hypothesis for Normal Distribution of Coin Weights\n",
    "- First, combine all coins into a single sample and test for normality of the weight distribution.\n",
    "- Then, test for normality of the weight distribution within each batch.\n",
    "- Use point estimates of parameters for hypothesis testing.\n",
    "- Construct confidence intervals for the parameters of the normal distribution."
   ],
   "id": "a227355519c0b5a2"
  },
  {
   "metadata": {},
   "cell_type": "markdown",
   "source": [
    "\n",
    "---\n",
    "\n",
    "# Dataset: \"iris.txt\"\n",
    "**Variables:**\n",
    "- Sepal length\n",
    "- Sepal width\n",
    "- Petal length\n",
    "- Petal width\n",
    "- Class (species of iris)\n",
    "\n",
    "### 1. Test Hypothesis for Normal Distribution of Flower Lengths by Iris Type\n",
    "- Test the hypothesis that flower length (sepal and petal lengths) follows a normal distribution for each iris species.\n",
    "- Use point estimates of parameters for hypothesis testing.\n",
    "- Construct confidence intervals for the parameters of the normal distribution."
   ],
   "id": "e62d09ba18f8e2e6"
  }
 ],
 "metadata": {
  "kernelspec": {
   "display_name": "Python 3",
   "language": "python",
   "name": "python3"
  },
  "language_info": {
   "codemirror_mode": {
    "name": "ipython",
    "version": 2
   },
   "file_extension": ".py",
   "mimetype": "text/x-python",
   "name": "python",
   "nbconvert_exporter": "python",
   "pygments_lexer": "ipython2",
   "version": "2.7.6"
  }
 },
 "nbformat": 4,
 "nbformat_minor": 5
}
